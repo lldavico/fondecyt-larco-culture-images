{
 "cells": [
  {
   "attachments": {},
   "cell_type": "markdown",
   "metadata": {},
   "source": [
    "## Uso de TF-IDF para calcular distancia entre vectores de descripción"
   ]
  },
  {
   "attachments": {},
   "cell_type": "markdown",
   "metadata": {},
   "source": [
    "En este notebook se utilizará el algoritmo TF-IDF como approach alternativo para calcular similitud entre diferentes imágenes de culturas diferentes."
   ]
  },
  {
   "attachments": {},
   "cell_type": "markdown",
   "metadata": {},
   "source": [
    "### Cargamos el dataset"
   ]
  },
  {
   "cell_type": "code",
   "execution_count": 1,
   "metadata": {},
   "outputs": [],
   "source": [
    "import pandas as pd"
   ]
  },
  {
   "cell_type": "code",
   "execution_count": 2,
   "metadata": {},
   "outputs": [
    {
     "data": {
      "text/html": [
       "<div>\n",
       "<style scoped>\n",
       "    .dataframe tbody tr th:only-of-type {\n",
       "        vertical-align: middle;\n",
       "    }\n",
       "\n",
       "    .dataframe tbody tr th {\n",
       "        vertical-align: top;\n",
       "    }\n",
       "\n",
       "    .dataframe thead th {\n",
       "        text-align: right;\n",
       "    }\n",
       "</style>\n",
       "<table border=\"1\" class=\"dataframe\">\n",
       "  <thead>\n",
       "    <tr style=\"text-align: right;\">\n",
       "      <th></th>\n",
       "      <th>catalogation_id</th>\n",
       "      <th>cronology</th>\n",
       "      <th>cronology_time</th>\n",
       "      <th>culture_cl</th>\n",
       "      <th>morfofunctional_category</th>\n",
       "      <th>description</th>\n",
       "      <th>principal_scene</th>\n",
       "      <th>decoration_tecnique_external_body_section1</th>\n",
       "      <th>color_external_body_section1</th>\n",
       "      <th>color_internal_body_section1</th>\n",
       "      <th>...</th>\n",
       "      <th>trait_n89</th>\n",
       "      <th>trait_n90</th>\n",
       "      <th>trait_n100</th>\n",
       "      <th>trait_n101</th>\n",
       "      <th>trait_n102</th>\n",
       "      <th>trait_n103</th>\n",
       "      <th>trait_n104</th>\n",
       "      <th>trait_n105</th>\n",
       "      <th>file_path</th>\n",
       "      <th>image_path</th>\n",
       "    </tr>\n",
       "  </thead>\n",
       "  <tbody>\n",
       "    <tr>\n",
       "      <th>0</th>\n",
       "      <td>ML020107</td>\n",
       "      <td>Horizonte Medio</td>\n",
       "      <td>7</td>\n",
       "      <td>Sican</td>\n",
       "      <td>botella doble cuerpo asa puente cintada silbadora</td>\n",
       "      <td>botella doble cuerpo asa puente cintada silbad...</td>\n",
       "      <td>NaN</td>\n",
       "      <td>pintado escultorico</td>\n",
       "      <td>crema y naranja</td>\n",
       "      <td>NaN</td>\n",
       "      <td>...</td>\n",
       "      <td>0</td>\n",
       "      <td>0</td>\n",
       "      <td>1</td>\n",
       "      <td>1</td>\n",
       "      <td>1</td>\n",
       "      <td>0</td>\n",
       "      <td>1</td>\n",
       "      <td>0</td>\n",
       "      <td>data/sican_7/7 ADMINISTRADOR COLECCIONES VIRTU...</td>\n",
       "      <td>data/images/ML020107a.jpg</td>\n",
       "    </tr>\n",
       "    <tr>\n",
       "      <th>1</th>\n",
       "      <td>ML020108</td>\n",
       "      <td>Horizonte Medio</td>\n",
       "      <td>7</td>\n",
       "      <td>Sican</td>\n",
       "      <td>botella doble pico asa puente cintada escultorica</td>\n",
       "      <td>botella doble pico asa puente cintada escultor...</td>\n",
       "      <td>NaN</td>\n",
       "      <td>pintado escultorico</td>\n",
       "      <td>rojo y naranja</td>\n",
       "      <td>NaN</td>\n",
       "      <td>...</td>\n",
       "      <td>0</td>\n",
       "      <td>0</td>\n",
       "      <td>1</td>\n",
       "      <td>1</td>\n",
       "      <td>1</td>\n",
       "      <td>0</td>\n",
       "      <td>1</td>\n",
       "      <td>0</td>\n",
       "      <td>data/sican_7/7 ADMINISTRADOR COLECCIONES VIRTU...</td>\n",
       "      <td>data/images/ML020108a.jpg</td>\n",
       "    </tr>\n",
       "    <tr>\n",
       "      <th>2</th>\n",
       "      <td>ML020109</td>\n",
       "      <td>Horizonte Medio</td>\n",
       "      <td>7</td>\n",
       "      <td>Sican</td>\n",
       "      <td>botella gollete asa puente cintada protoma sil...</td>\n",
       "      <td>botella gollete asa puente cintada protoma sil...</td>\n",
       "      <td>NaN</td>\n",
       "      <td>pintado escultorico</td>\n",
       "      <td>crema y naranja</td>\n",
       "      <td>NaN</td>\n",
       "      <td>...</td>\n",
       "      <td>0</td>\n",
       "      <td>0</td>\n",
       "      <td>1</td>\n",
       "      <td>1</td>\n",
       "      <td>1</td>\n",
       "      <td>0</td>\n",
       "      <td>1</td>\n",
       "      <td>0</td>\n",
       "      <td>data/sican_7/7 ADMINISTRADOR COLECCIONES VIRTU...</td>\n",
       "      <td>data/images/ML020109a.jpg</td>\n",
       "    </tr>\n",
       "    <tr>\n",
       "      <th>3</th>\n",
       "      <td>ML020110</td>\n",
       "      <td>Horizonte Medio</td>\n",
       "      <td>7</td>\n",
       "      <td>Sican</td>\n",
       "      <td>botella gollete asa puente cintada protoma sil...</td>\n",
       "      <td>botella gollete asa puente cintada protoma sil...</td>\n",
       "      <td>NaN</td>\n",
       "      <td>pintado escultorico</td>\n",
       "      <td>crema y naranja</td>\n",
       "      <td>NaN</td>\n",
       "      <td>...</td>\n",
       "      <td>0</td>\n",
       "      <td>0</td>\n",
       "      <td>1</td>\n",
       "      <td>1</td>\n",
       "      <td>1</td>\n",
       "      <td>0</td>\n",
       "      <td>1</td>\n",
       "      <td>0</td>\n",
       "      <td>data/sican_7/7 ADMINISTRADOR COLECCIONES VIRTU...</td>\n",
       "      <td>data/images/ML020110a.jpg</td>\n",
       "    </tr>\n",
       "    <tr>\n",
       "      <th>4</th>\n",
       "      <td>ML020111</td>\n",
       "      <td>Horizonte Medio</td>\n",
       "      <td>7</td>\n",
       "      <td>Sican</td>\n",
       "      <td>botella gollete asa puente cintada protoma sil...</td>\n",
       "      <td>botella gollete asa puente cintada protoma sil...</td>\n",
       "      <td>NaN</td>\n",
       "      <td>pintado escultorico</td>\n",
       "      <td>crema y marron</td>\n",
       "      <td>NaN</td>\n",
       "      <td>...</td>\n",
       "      <td>0</td>\n",
       "      <td>0</td>\n",
       "      <td>1</td>\n",
       "      <td>1</td>\n",
       "      <td>1</td>\n",
       "      <td>0</td>\n",
       "      <td>1</td>\n",
       "      <td>0</td>\n",
       "      <td>data/sican_7/7 ADMINISTRADOR COLECCIONES VIRTU...</td>\n",
       "      <td>data/images/ML020111a.jpg</td>\n",
       "    </tr>\n",
       "  </tbody>\n",
       "</table>\n",
       "<p>5 rows × 121 columns</p>\n",
       "</div>"
      ],
      "text/plain": [
       "  catalogation_id        cronology  cronology_time culture_cl  \\\n",
       "0        ML020107  Horizonte Medio               7      Sican   \n",
       "1        ML020108  Horizonte Medio               7      Sican   \n",
       "2        ML020109  Horizonte Medio               7      Sican   \n",
       "3        ML020110  Horizonte Medio               7      Sican   \n",
       "4        ML020111  Horizonte Medio               7      Sican   \n",
       "\n",
       "                            morfofunctional_category  \\\n",
       "0  botella doble cuerpo asa puente cintada silbadora   \n",
       "1  botella doble pico asa puente cintada escultorica   \n",
       "2  botella gollete asa puente cintada protoma sil...   \n",
       "3  botella gollete asa puente cintada protoma sil...   \n",
       "4  botella gollete asa puente cintada protoma sil...   \n",
       "\n",
       "                                         description principal_scene  \\\n",
       "0  botella doble cuerpo asa puente cintada silbad...             NaN   \n",
       "1  botella doble pico asa puente cintada escultor...             NaN   \n",
       "2  botella gollete asa puente cintada protoma sil...             NaN   \n",
       "3  botella gollete asa puente cintada protoma sil...             NaN   \n",
       "4  botella gollete asa puente cintada protoma sil...             NaN   \n",
       "\n",
       "  decoration_tecnique_external_body_section1 color_external_body_section1  \\\n",
       "0                        pintado escultorico              crema y naranja   \n",
       "1                        pintado escultorico               rojo y naranja   \n",
       "2                        pintado escultorico              crema y naranja   \n",
       "3                        pintado escultorico              crema y naranja   \n",
       "4                        pintado escultorico               crema y marron   \n",
       "\n",
       "  color_internal_body_section1  ... trait_n89  trait_n90  trait_n100  \\\n",
       "0                          NaN  ...         0          0           1   \n",
       "1                          NaN  ...         0          0           1   \n",
       "2                          NaN  ...         0          0           1   \n",
       "3                          NaN  ...         0          0           1   \n",
       "4                          NaN  ...         0          0           1   \n",
       "\n",
       "   trait_n101  trait_n102  trait_n103  trait_n104  trait_n105  \\\n",
       "0           1           1           0           1           0   \n",
       "1           1           1           0           1           0   \n",
       "2           1           1           0           1           0   \n",
       "3           1           1           0           1           0   \n",
       "4           1           1           0           1           0   \n",
       "\n",
       "                                           file_path  \\\n",
       "0  data/sican_7/7 ADMINISTRADOR COLECCIONES VIRTU...   \n",
       "1  data/sican_7/7 ADMINISTRADOR COLECCIONES VIRTU...   \n",
       "2  data/sican_7/7 ADMINISTRADOR COLECCIONES VIRTU...   \n",
       "3  data/sican_7/7 ADMINISTRADOR COLECCIONES VIRTU...   \n",
       "4  data/sican_7/7 ADMINISTRADOR COLECCIONES VIRTU...   \n",
       "\n",
       "                  image_path  \n",
       "0  data/images/ML020107a.jpg  \n",
       "1  data/images/ML020108a.jpg  \n",
       "2  data/images/ML020109a.jpg  \n",
       "3  data/images/ML020110a.jpg  \n",
       "4  data/images/ML020111a.jpg  \n",
       "\n",
       "[5 rows x 121 columns]"
      ]
     },
     "execution_count": 2,
     "metadata": {},
     "output_type": "execute_result"
    }
   ],
   "source": [
    "df = pd.read_excel('../../data/dataset_v3.xlsx')\n",
    "df = df.drop('Unnamed: 0', axis=1)\n",
    "df.head()"
   ]
  },
  {
   "attachments": {},
   "cell_type": "markdown",
   "metadata": {},
   "source": [
    "### Utilizamos la librería NLTK que nos permitirá implementar el algoritmo"
   ]
  },
  {
   "cell_type": "code",
   "execution_count": 4,
   "metadata": {},
   "outputs": [],
   "source": [
    "from nltk.corpus import stopwords\n",
    "from nltk.tokenize import word_tokenize\n",
    "from nltk.stem import WordNetLemmatizer\n",
    "from sklearn.feature_extraction.text import TfidfVectorizer"
   ]
  },
  {
   "attachments": {},
   "cell_type": "markdown",
   "metadata": {},
   "source": [
    "Definimos el lematizador y removemos las stopwords"
   ]
  },
  {
   "attachments": {},
   "cell_type": "markdown",
   "metadata": {},
   "source": [
    "Instalamos el tokenizador y lematizador"
   ]
  },
  {
   "cell_type": "code",
   "execution_count": 22,
   "metadata": {},
   "outputs": [
    {
     "name": "stderr",
     "output_type": "stream",
     "text": [
      "[nltk_data] Downloading package stopwords to\n",
      "[nltk_data]     /Users/ldavico/nltk_data...\n",
      "[nltk_data]   Package stopwords is already up-to-date!\n",
      "[nltk_data] Downloading package wordnet to /Users/ldavico/nltk_data...\n",
      "[nltk_data]   Package wordnet is already up-to-date!\n",
      "[nltk_data] Downloading package punkt to /Users/ldavico/nltk_data...\n",
      "[nltk_data]   Unzipping tokenizers/punkt.zip.\n"
     ]
    },
    {
     "data": {
      "text/plain": [
       "True"
      ]
     },
     "execution_count": 22,
     "metadata": {},
     "output_type": "execute_result"
    }
   ],
   "source": [
    "import nltk\n",
    "\n",
    "nltk.download('stopwords')\n",
    "nltk.download('wordnet')\n",
    "nltk.download('punkt')"
   ]
  },
  {
   "cell_type": "code",
   "execution_count": 23,
   "metadata": {},
   "outputs": [],
   "source": [
    "stop_words = set(stopwords.words(\"spanish\"))    \n",
    "lemmatizer = WordNetLemmatizer()\n"
   ]
  },
  {
   "cell_type": "code",
   "execution_count": 43,
   "metadata": {},
   "outputs": [],
   "source": [
    "texto1 = 'Hola soy Luciano'\n",
    "texto2 = 'Hola soy Luciano y me gusta jugar futbol'"
   ]
  },
  {
   "cell_type": "code",
   "execution_count": 44,
   "metadata": {},
   "outputs": [],
   "source": [
    "text1_tokenized = ' '.join([\n",
    "    lemmatizer.lemmatize(word.lower()) \n",
    "        for word in word_tokenize(texto1) if word.isalnum() and word.lower() not in stop_words\n",
    "    ])\n",
    "text2_tokenized = ' '.join([\n",
    "    lemmatizer.lemmatize(word.lower()) \n",
    "        for word in word_tokenize(texto2) if word.isalnum() and word.lower() not in stop_words\n",
    "    ])"
   ]
  },
  {
   "attachments": {},
   "cell_type": "markdown",
   "metadata": {},
   "source": [
    "### Vectorizamos por medio de TFidf vectorizer y calculamos la similitud"
   ]
  },
  {
   "cell_type": "code",
   "execution_count": 49,
   "metadata": {},
   "outputs": [],
   "source": [
    "vectorizer = TfidfVectorizer()\n",
    "tfidf_matrix = vectorizer.fit_transform([text1_tokenized, text2_tokenized])"
   ]
  },
  {
   "cell_type": "code",
   "execution_count": 46,
   "metadata": {},
   "outputs": [
    {
     "data": {
      "text/plain": [
       "0.4976712217743283"
      ]
     },
     "execution_count": 46,
     "metadata": {},
     "output_type": "execute_result"
    }
   ],
   "source": [
    "similitud = 1 - (tfidf_matrix * tfidf_matrix.T).toarray()[0, 1]\n",
    "similitud"
   ]
  },
  {
   "attachments": {},
   "cell_type": "markdown",
   "metadata": {},
   "source": [
    "### Ahora lo aplicamos a nuestro dataset y guardamos nuestras features"
   ]
  },
  {
   "cell_type": "code",
   "execution_count": 62,
   "metadata": {},
   "outputs": [],
   "source": [
    "df = df[~df.description.isnull()][['catalogation_id', 'culture_cl', 'description']]\n",
    "descriptions = df.description.tolist()"
   ]
  },
  {
   "cell_type": "code",
   "execution_count": 67,
   "metadata": {},
   "outputs": [],
   "source": [
    "def tokenize(description, lemmatizer, stop_words) -> str:\n",
    "    return ' '.join([\n",
    "    lemmatizer.lemmatize(word.lower()) \n",
    "        for word in word_tokenize(description) if word.isalnum() and word.lower() not in stop_words\n",
    "    ])\n",
    "\n",
    "def tokenize_descriptions(descriptions, lemmatizer, stop_words) -> list:\n",
    "    tokenized = [tokenize(desc, lemmatizer, stop_words) for desc in descriptions]\n",
    "    return tokenized"
   ]
  },
  {
   "cell_type": "code",
   "execution_count": 68,
   "metadata": {},
   "outputs": [],
   "source": [
    "tokenized_descriptions = tokenize_descriptions(descriptions, lemmatizer, stop_words)"
   ]
  },
  {
   "cell_type": "code",
   "execution_count": 92,
   "metadata": {},
   "outputs": [],
   "source": [
    "def get_vectors_tf_idf(descriptions, vectorizer):\n",
    "    tfidf_matrix = vectorizer.fit_transform(descriptions)\n",
    "    return tfidf_matrix.toarray()"
   ]
  },
  {
   "cell_type": "code",
   "execution_count": 93,
   "metadata": {},
   "outputs": [],
   "source": [
    "description_vectors_tfidf = get_vectors_tf_idf(tokenized_descriptions, vectorizer).tolist()\n"
   ]
  },
  {
   "cell_type": "code",
   "execution_count": 94,
   "metadata": {},
   "outputs": [],
   "source": [
    "df['tfidf_vector'] = description_vectors_tfidf"
   ]
  },
  {
   "cell_type": "code",
   "execution_count": 95,
   "metadata": {},
   "outputs": [
    {
     "data": {
      "text/html": [
       "<div>\n",
       "<style scoped>\n",
       "    .dataframe tbody tr th:only-of-type {\n",
       "        vertical-align: middle;\n",
       "    }\n",
       "\n",
       "    .dataframe tbody tr th {\n",
       "        vertical-align: top;\n",
       "    }\n",
       "\n",
       "    .dataframe thead th {\n",
       "        text-align: right;\n",
       "    }\n",
       "</style>\n",
       "<table border=\"1\" class=\"dataframe\">\n",
       "  <thead>\n",
       "    <tr style=\"text-align: right;\">\n",
       "      <th></th>\n",
       "      <th>catalogation_id</th>\n",
       "      <th>culture_cl</th>\n",
       "      <th>description</th>\n",
       "      <th>tfidf_vector</th>\n",
       "    </tr>\n",
       "  </thead>\n",
       "  <tbody>\n",
       "    <tr>\n",
       "      <th>0</th>\n",
       "      <td>ML020107</td>\n",
       "      <td>Sican</td>\n",
       "      <td>botella doble cuerpo asa puente cintada silbad...</td>\n",
       "      <td>[0.0, 0.0, 0.0, 0.0, 0.0, 0.0, 0.0, 0.0, 0.0, ...</td>\n",
       "    </tr>\n",
       "    <tr>\n",
       "      <th>1</th>\n",
       "      <td>ML020108</td>\n",
       "      <td>Sican</td>\n",
       "      <td>botella doble pico asa puente cintada escultor...</td>\n",
       "      <td>[0.0, 0.0, 0.0, 0.0, 0.0, 0.0, 0.0, 0.0, 0.0, ...</td>\n",
       "    </tr>\n",
       "    <tr>\n",
       "      <th>2</th>\n",
       "      <td>ML020109</td>\n",
       "      <td>Sican</td>\n",
       "      <td>botella gollete asa puente cintada protoma sil...</td>\n",
       "      <td>[0.0, 0.0, 0.0, 0.0, 0.0, 0.0, 0.0, 0.0, 0.0, ...</td>\n",
       "    </tr>\n",
       "    <tr>\n",
       "      <th>3</th>\n",
       "      <td>ML020110</td>\n",
       "      <td>Sican</td>\n",
       "      <td>botella gollete asa puente cintada protoma sil...</td>\n",
       "      <td>[0.0, 0.0, 0.0, 0.0, 0.0, 0.0, 0.0, 0.0, 0.0, ...</td>\n",
       "    </tr>\n",
       "    <tr>\n",
       "      <th>4</th>\n",
       "      <td>ML020111</td>\n",
       "      <td>Sican</td>\n",
       "      <td>botella gollete asa puente cintada protoma sil...</td>\n",
       "      <td>[0.0, 0.0, 0.0, 0.0, 0.0, 0.0, 0.0, 0.0, 0.0, ...</td>\n",
       "    </tr>\n",
       "    <tr>\n",
       "      <th>...</th>\n",
       "      <td>...</td>\n",
       "      <td>...</td>\n",
       "      <td>...</td>\n",
       "      <td>...</td>\n",
       "    </tr>\n",
       "    <tr>\n",
       "      <th>33577</th>\n",
       "      <td>ML038832</td>\n",
       "      <td>Tiahuanaco</td>\n",
       "      <td>plato con diseños geometricos de lineas horizo...</td>\n",
       "      <td>[0.0, 0.0, 0.0, 0.0, 0.0, 0.0, 0.0, 0.0, 0.0, ...</td>\n",
       "    </tr>\n",
       "    <tr>\n",
       "      <th>33578</th>\n",
       "      <td>ML038833</td>\n",
       "      <td>Tiahuanaco</td>\n",
       "      <td>plato con diseños geometricos de eses ( s) y l...</td>\n",
       "      <td>[0.0, 0.0, 0.0, 0.0, 0.0, 0.0, 0.0, 0.0, 0.0, ...</td>\n",
       "    </tr>\n",
       "    <tr>\n",
       "      <th>33579</th>\n",
       "      <td>ML015075</td>\n",
       "      <td>Cajamarca</td>\n",
       "      <td>cuenco escultorico que representa a un felino ...</td>\n",
       "      <td>[0.0, 0.0, 0.0, 0.0, 0.0, 0.0, 0.0, 0.0, 0.0, ...</td>\n",
       "    </tr>\n",
       "    <tr>\n",
       "      <th>33580</th>\n",
       "      <td>ML015241</td>\n",
       "      <td>Cajamarca</td>\n",
       "      <td>cuenco con representacion de cabeza estilizada...</td>\n",
       "      <td>[0.0, 0.0, 0.0, 0.0, 0.0, 0.0, 0.0, 0.0, 0.0, ...</td>\n",
       "    </tr>\n",
       "    <tr>\n",
       "      <th>33581</th>\n",
       "      <td>ML033280</td>\n",
       "      <td>Cajamarca</td>\n",
       "      <td>cantaro .</td>\n",
       "      <td>[0.0, 0.0, 0.0, 0.0, 0.0, 0.0, 0.0, 0.0, 0.0, ...</td>\n",
       "    </tr>\n",
       "  </tbody>\n",
       "</table>\n",
       "<p>33581 rows × 4 columns</p>\n",
       "</div>"
      ],
      "text/plain": [
       "      catalogation_id  culture_cl  \\\n",
       "0            ML020107       Sican   \n",
       "1            ML020108       Sican   \n",
       "2            ML020109       Sican   \n",
       "3            ML020110       Sican   \n",
       "4            ML020111       Sican   \n",
       "...               ...         ...   \n",
       "33577        ML038832  Tiahuanaco   \n",
       "33578        ML038833  Tiahuanaco   \n",
       "33579        ML015075   Cajamarca   \n",
       "33580        ML015241   Cajamarca   \n",
       "33581        ML033280   Cajamarca   \n",
       "\n",
       "                                             description  \\\n",
       "0      botella doble cuerpo asa puente cintada silbad...   \n",
       "1      botella doble pico asa puente cintada escultor...   \n",
       "2      botella gollete asa puente cintada protoma sil...   \n",
       "3      botella gollete asa puente cintada protoma sil...   \n",
       "4      botella gollete asa puente cintada protoma sil...   \n",
       "...                                                  ...   \n",
       "33577  plato con diseños geometricos de lineas horizo...   \n",
       "33578  plato con diseños geometricos de eses ( s) y l...   \n",
       "33579  cuenco escultorico que representa a un felino ...   \n",
       "33580  cuenco con representacion de cabeza estilizada...   \n",
       "33581                                          cantaro .   \n",
       "\n",
       "                                            tfidf_vector  \n",
       "0      [0.0, 0.0, 0.0, 0.0, 0.0, 0.0, 0.0, 0.0, 0.0, ...  \n",
       "1      [0.0, 0.0, 0.0, 0.0, 0.0, 0.0, 0.0, 0.0, 0.0, ...  \n",
       "2      [0.0, 0.0, 0.0, 0.0, 0.0, 0.0, 0.0, 0.0, 0.0, ...  \n",
       "3      [0.0, 0.0, 0.0, 0.0, 0.0, 0.0, 0.0, 0.0, 0.0, ...  \n",
       "4      [0.0, 0.0, 0.0, 0.0, 0.0, 0.0, 0.0, 0.0, 0.0, ...  \n",
       "...                                                  ...  \n",
       "33577  [0.0, 0.0, 0.0, 0.0, 0.0, 0.0, 0.0, 0.0, 0.0, ...  \n",
       "33578  [0.0, 0.0, 0.0, 0.0, 0.0, 0.0, 0.0, 0.0, 0.0, ...  \n",
       "33579  [0.0, 0.0, 0.0, 0.0, 0.0, 0.0, 0.0, 0.0, 0.0, ...  \n",
       "33580  [0.0, 0.0, 0.0, 0.0, 0.0, 0.0, 0.0, 0.0, 0.0, ...  \n",
       "33581  [0.0, 0.0, 0.0, 0.0, 0.0, 0.0, 0.0, 0.0, 0.0, ...  \n",
       "\n",
       "[33581 rows x 4 columns]"
      ]
     },
     "execution_count": 95,
     "metadata": {},
     "output_type": "execute_result"
    }
   ],
   "source": [
    "df"
   ]
  },
  {
   "cell_type": "code",
   "execution_count": 97,
   "metadata": {},
   "outputs": [],
   "source": [
    "df.to_csv('../../data/tfidf_vectors.csv', sep=';', index=False)"
   ]
  },
  {
   "cell_type": "code",
   "execution_count": null,
   "metadata": {},
   "outputs": [],
   "source": []
  }
 ],
 "metadata": {
  "kernelspec": {
   "display_name": "Python 3",
   "language": "python",
   "name": "python3"
  },
  "language_info": {
   "codemirror_mode": {
    "name": "ipython",
    "version": 3
   },
   "file_extension": ".py",
   "mimetype": "text/x-python",
   "name": "python",
   "nbconvert_exporter": "python",
   "pygments_lexer": "ipython3",
   "version": "3.11.3"
  },
  "orig_nbformat": 4,
  "vscode": {
   "interpreter": {
    "hash": "b0fa6594d8f4cbf19f97940f81e996739fb7646882a419484c72d19e05852a7e"
   }
  }
 },
 "nbformat": 4,
 "nbformat_minor": 2
}
